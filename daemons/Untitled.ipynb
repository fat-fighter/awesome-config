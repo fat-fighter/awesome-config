{
 "cells": [
  {
   "cell_type": "code",
   "execution_count": null,
   "metadata": {},
   "outputs": [],
   "source": [
    "bluez = require(\"bluezdbus\")\n",
    "bus = bluez.get_system_bus()\n",
    "\n",
    "unpack = bluez.helpers.unpack_variant\n",
    "\n",
    "manager = bluez.Manager:new(bus)\n",
    "\n",
    "adapters = {}\n",
    "for _, path in ipairs(manager:get_adapters()) do\n",
    "    adapters[path] = bluez.Adapter:new(bus, path)\n",
    "end\n",
    "\n",
    "k = \"/org/bluez/hci0\"\n",
    "a = adapters[k]\n",
    "\n",
    "a.StartDiscovery()\n",
    "\n",
    "a.StopDiscovery()\n",
    "\n",
    "function add_interface(args)\n",
    "    print(\"ASD\")\n",
    "    print(args)\n",
    "end\n",
    "\n",
    "function remove_interface(args)\n",
    "    print(\"ASD\")\n",
    "    print(args)\n",
    "end\n",
    "\n",
    "manager.InterfacesAdded(\"ASD\", add_interface)\n",
    "manager.InterfacesRemoved(nil, remove_interface)"
   ]
  },
  {
   "cell_type": "code",
   "execution_count": null,
   "metadata": {},
   "outputs": [],
   "source": [
    "bluez.run_main_loop()"
   ]
  }
 ],
 "metadata": {
  "hide_input": false,
  "kernelspec": {
   "display_name": "Lua",
   "language": "lua",
   "name": "lua"
  },
  "language_info": {
   "codemirror_mode": "lua",
   "file_extension": ".lua",
   "mimetype": "text/x-lua",
   "name": "lua"
  }
 },
 "nbformat": 4,
 "nbformat_minor": 4
}
